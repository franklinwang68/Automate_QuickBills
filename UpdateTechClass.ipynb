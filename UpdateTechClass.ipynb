{
 "cells": [
  {
   "cell_type": "markdown",
   "id": "ae132ade",
   "metadata": {},
   "source": [
    "### Code:\n",
    "initial data\n",
    "1. clean and read csv file\n",
    "2. Go to Records (tab 8)\n",
    "3. Go to Invention Track Code (tab 14)\n",
    "4. Go to first Invention (tab 23)\n",
    "5. Edit Invention (tab 17)\n",
    "6. Edit primary tech class (tab 31)\n",
    "7. Edit secondary tech class (tab 1)\n",
    "8. Save"
   ]
  },
  {
   "cell_type": "code",
   "execution_count": 1,
   "id": "88d374c9",
   "metadata": {},
   "outputs": [],
   "source": [
    "import pyautogui\n",
    "import time\n",
    "import csv"
   ]
  },
  {
   "cell_type": "code",
   "execution_count": 14,
   "id": "2009f44d",
   "metadata": {},
   "outputs": [
    {
     "name": "stdout",
     "output_type": "stream",
     "text": [
      "Starting automation in 5 seconds — switch to the target window.\n",
      "Entering record: 2025-4493 Finding Invention... Editing Invention... ✅ Finished: 2025-4493\n",
      "Entering record: 2025-4494 Finding Invention... Editing Invention... ✅ Finished: 2025-4494\n",
      "Entering record: 2025-4499 Finding Invention... "
     ]
    },
    {
     "ename": "FailSafeException",
     "evalue": "PyAutoGUI fail-safe triggered from mouse moving to a corner of the screen. To disable this fail-safe, set pyautogui.FAILSAFE to False. DISABLING FAIL-SAFE IS NOT RECOMMENDED.",
     "output_type": "error",
     "traceback": [
      "\u001b[31m---------------------------------------------------------------------------\u001b[39m",
      "\u001b[31mFailSafeException\u001b[39m                         Traceback (most recent call last)",
      "\u001b[36mCell\u001b[39m\u001b[36m \u001b[39m\u001b[32mIn[14]\u001b[39m\u001b[32m, line 31\u001b[39m\n\u001b[32m     29\u001b[39m \u001b[38;5;66;03m# Writing track code \u001b[39;00m\n\u001b[32m     30\u001b[39m \u001b[38;5;28;01mfor\u001b[39;00m i \u001b[38;5;129;01min\u001b[39;00m \u001b[38;5;28mrange\u001b[39m(\u001b[32m14\u001b[39m):\n\u001b[32m---> \u001b[39m\u001b[32m31\u001b[39m     \u001b[43mpyautogui\u001b[49m\u001b[43m.\u001b[49m\u001b[43mpress\u001b[49m\u001b[43m(\u001b[49m\u001b[33;43m'\u001b[39;49m\u001b[33;43mtab\u001b[39;49m\u001b[33;43m'\u001b[39;49m\u001b[43m)\u001b[49m\n\u001b[32m     32\u001b[39m pyautogui.write(case_number)\n\u001b[32m     33\u001b[39m pyautogui.press(\u001b[33m'\u001b[39m\u001b[33menter\u001b[39m\u001b[33m'\u001b[39m)\n",
      "\u001b[36mFile \u001b[39m\u001b[32mc:\\Users\\nanhu\\AppData\\Local\\Programs\\Python\\Python313\\Lib\\site-packages\\pyautogui\\__init__.py:593\u001b[39m, in \u001b[36m_genericPyAutoGUIChecks.<locals>.wrapper\u001b[39m\u001b[34m(*args, **kwargs)\u001b[39m\n\u001b[32m    591\u001b[39m \u001b[38;5;129m@functools\u001b[39m.wraps(wrappedFunction)\n\u001b[32m    592\u001b[39m \u001b[38;5;28;01mdef\u001b[39;00m\u001b[38;5;250m \u001b[39m\u001b[34mwrapper\u001b[39m(*args, **kwargs):\n\u001b[32m--> \u001b[39m\u001b[32m593\u001b[39m     \u001b[43mfailSafeCheck\u001b[49m\u001b[43m(\u001b[49m\u001b[43m)\u001b[49m\n\u001b[32m    594\u001b[39m     returnVal = wrappedFunction(*args, **kwargs)\n\u001b[32m    595\u001b[39m     _handlePause(kwargs.get(\u001b[33m\"\u001b[39m\u001b[33m_pause\u001b[39m\u001b[33m\"\u001b[39m, \u001b[38;5;28;01mTrue\u001b[39;00m))\n",
      "\u001b[36mFile \u001b[39m\u001b[32mc:\\Users\\nanhu\\AppData\\Local\\Programs\\Python\\Python313\\Lib\\site-packages\\pyautogui\\__init__.py:1734\u001b[39m, in \u001b[36mfailSafeCheck\u001b[39m\u001b[34m()\u001b[39m\n\u001b[32m   1732\u001b[39m \u001b[38;5;28;01mdef\u001b[39;00m\u001b[38;5;250m \u001b[39m\u001b[34mfailSafeCheck\u001b[39m():\n\u001b[32m   1733\u001b[39m     \u001b[38;5;28;01mif\u001b[39;00m FAILSAFE \u001b[38;5;129;01mand\u001b[39;00m \u001b[38;5;28mtuple\u001b[39m(position()) \u001b[38;5;129;01min\u001b[39;00m FAILSAFE_POINTS:\n\u001b[32m-> \u001b[39m\u001b[32m1734\u001b[39m         \u001b[38;5;28;01mraise\u001b[39;00m FailSafeException(\n\u001b[32m   1735\u001b[39m             \u001b[33m\"\u001b[39m\u001b[33mPyAutoGUI fail-safe triggered from mouse moving to a corner of the screen. To disable this fail-safe, set pyautogui.FAILSAFE to False. DISABLING FAIL-SAFE IS NOT RECOMMENDED.\u001b[39m\u001b[33m\"\u001b[39m\n\u001b[32m   1736\u001b[39m         )\n",
      "\u001b[31mFailSafeException\u001b[39m: PyAutoGUI fail-safe triggered from mouse moving to a corner of the screen. To disable this fail-safe, set pyautogui.FAILSAFE to False. DISABLING FAIL-SAFE IS NOT RECOMMENDED."
     ]
    }
   ],
   "source": [
    "#Main Code\n",
    "\n",
    "# === STEP 0: Initial Prep ===\n",
    "print(\"Starting automation in 5 seconds — switch to the target window.\")\n",
    "time.sleep(5)\n",
    "\n",
    "page_load_time = 12\n",
    "\n",
    "# === Load CSV ===\n",
    "with open('tech.csv', newline='') as csvfile:\n",
    "    reader = csv.DictReader(csvfile)\n",
    "    \n",
    "    for row in reader:\n",
    "        # Extract fields from current CSV row\n",
    "        case_number = row['Track Code']\n",
    "        primary = row['Primary']\n",
    "        secondary = row['Secondary']\n",
    "\n",
    "        print(f\"Entering record: {case_number} \",end=\"\")\n",
    "\n",
    "        # Go to Records (tab 8)\n",
    "        print(\"Finding Invention... \", end=\"\")\n",
    "        for i in range(8):\n",
    "            pyautogui.press('tab')\n",
    "        pyautogui.press('enter')\n",
    "\n",
    "        time.sleep(page_load_time)\n",
    "\n",
    "        # Writing track code \n",
    "        for i in range(14):\n",
    "            pyautogui.press('tab')\n",
    "        pyautogui.write(case_number)\n",
    "        pyautogui.press('enter')\n",
    "\n",
    "        time.sleep(page_load_time)\n",
    "\n",
    "        # Going to invention\n",
    "        for i in range(23):\n",
    "            pyautogui.press('tab')\n",
    "        pyautogui.press('enter')\n",
    "        \n",
    "        time.sleep(page_load_time)\n",
    "\n",
    "        print(\"Editing Invention... \", end=\"\")\n",
    "        # Going to editing page\n",
    "        for i in range(17):\n",
    "            pyautogui.press('tab')\n",
    "        pyautogui.press('enter')\n",
    "\n",
    "        time.sleep(page_load_time)\n",
    "\n",
    "        #editing primary tech class\n",
    "        for i in range(31):\n",
    "            pyautogui.press('tab')\n",
    "        for i in range(14): #reset field\n",
    "            pyautogui.press('up')\n",
    "        pyautogui.write(primary)\n",
    "\n",
    "        #editing secondary tech class\n",
    "        pyautogui.press('tab')\n",
    "        for i in range(30): #reset field\n",
    "            pyautogui.press('up')\n",
    "        pyautogui.write(secondary)\n",
    "        pyautogui.press('tab')\n",
    "\n",
    "        # Save Invention\n",
    "        for i in range(4):\n",
    "            pyautogui.press('tab')\n",
    "        pyautogui.press('enter')\n",
    "\n",
    "        time.sleep(page_load_time)\n",
    "\n",
    "        #ctrl L, ctrl C, esc, get clipboard content, write content to file\n",
    "\n",
    "\n",
    "        print(f\"✅ Finished: {case_number}\")\n",
    "\n",
    "print(\"✅ All records processed.\")\n"
   ]
  },
  {
   "cell_type": "code",
   "execution_count": null,
   "id": "71d7cd54",
   "metadata": {},
   "outputs": [],
   "source": []
  }
 ],
 "metadata": {
  "kernelspec": {
   "display_name": "Python 3",
   "language": "python",
   "name": "python3"
  },
  "language_info": {
   "codemirror_mode": {
    "name": "ipython",
    "version": 3
   },
   "file_extension": ".py",
   "mimetype": "text/x-python",
   "name": "python",
   "nbconvert_exporter": "python",
   "pygments_lexer": "ipython3",
   "version": "3.13.5"
  }
 },
 "nbformat": 4,
 "nbformat_minor": 5
}
